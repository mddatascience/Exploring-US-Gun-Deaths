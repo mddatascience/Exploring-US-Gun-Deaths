{
 "cells": [
  {
   "cell_type": "markdown",
   "metadata": {},
   "source": [
    "First, let's open the csv file and turn it into a list of lists."
   ]
  },
  {
   "cell_type": "code",
   "execution_count": 1,
   "metadata": {
    "collapsed": false
   },
   "outputs": [
    {
     "data": {
      "text/plain": [
       "[['',\n",
       "  'year',\n",
       "  'month',\n",
       "  'intent',\n",
       "  'police',\n",
       "  'sex',\n",
       "  'age',\n",
       "  'race',\n",
       "  'hispanic',\n",
       "  'place',\n",
       "  'education'],\n",
       " ['1',\n",
       "  '2012',\n",
       "  '01',\n",
       "  'Suicide',\n",
       "  '0',\n",
       "  'M',\n",
       "  '34',\n",
       "  'Asian/Pacific Islander',\n",
       "  '100',\n",
       "  'Home',\n",
       "  '4'],\n",
       " ['2', '2012', '01', 'Suicide', '0', 'F', '21', 'White', '100', 'Street', '3'],\n",
       " ['3',\n",
       "  '2012',\n",
       "  '01',\n",
       "  'Suicide',\n",
       "  '0',\n",
       "  'M',\n",
       "  '60',\n",
       "  'White',\n",
       "  '100',\n",
       "  'Other specified',\n",
       "  '4'],\n",
       " ['4', '2012', '02', 'Suicide', '0', 'M', '64', 'White', '100', 'Home', '4']]"
      ]
     },
     "execution_count": 1,
     "metadata": {},
     "output_type": "execute_result"
    }
   ],
   "source": [
    "import csv\n",
    "\n",
    "f = open(\"guns.csv\")\n",
    "reader = csv.reader(f)\n",
    "data = list(reader)\n",
    "\n",
    "data[0:5]"
   ]
  },
  {
   "cell_type": "markdown",
   "metadata": {},
   "source": [
    "Next, we'll remove the header from the data since we don't need it."
   ]
  },
  {
   "cell_type": "code",
   "execution_count": 2,
   "metadata": {
    "collapsed": false
   },
   "outputs": [
    {
     "name": "stdout",
     "output_type": "stream",
     "text": [
      "['', 'year', 'month', 'intent', 'police', 'sex', 'age', 'race', 'hispanic', 'place', 'education']\n",
      "\n",
      "\n",
      "[['1', '2012', '01', 'Suicide', '0', 'M', '34', 'Asian/Pacific Islander', '100', 'Home', '4'], ['2', '2012', '01', 'Suicide', '0', 'F', '21', 'White', '100', 'Street', '3'], ['3', '2012', '01', 'Suicide', '0', 'M', '60', 'White', '100', 'Other specified', '4'], ['4', '2012', '02', 'Suicide', '0', 'M', '64', 'White', '100', 'Home', '4'], ['5', '2012', '02', 'Suicide', '0', 'M', '31', 'White', '100', 'Other specified', '2']]\n"
     ]
    }
   ],
   "source": [
    "headers = data[0]\n",
    "data = data[1:len(data)]\n",
    "print(headers)\n",
    "print('\\n')\n",
    "print(data[0:5])"
   ]
  },
  {
   "cell_type": "markdown",
   "metadata": {},
   "source": [
    "Is there a difference in the number of gun deaths by year? We can find out by counting up the number of deaths by each year."
   ]
  },
  {
   "cell_type": "code",
   "execution_count": 3,
   "metadata": {
    "collapsed": false
   },
   "outputs": [
    {
     "name": "stdout",
     "output_type": "stream",
     "text": [
      "{'2014': 33599, '2013': 33636, '2012': 33563}\n"
     ]
    }
   ],
   "source": [
    "years = []\n",
    "year_counts = {}\n",
    "\n",
    "for row in data:\n",
    "    years.append(row[1])\n",
    "for year in years:\n",
    "    if year in year_counts:\n",
    "        year_counts[year] += 1\n",
    "    else:\n",
    "        year_counts[year] = 1\n",
    "        \n",
    "\n",
    "print(year_counts)"
   ]
  },
  {
   "cell_type": "markdown",
   "metadata": {},
   "source": [
    "There doesn't seem to be much of a difference between each of the three years, but maybe there's a difference by year and month."
   ]
  },
  {
   "cell_type": "code",
   "execution_count": 4,
   "metadata": {
    "collapsed": false
   },
   "outputs": [
    {
     "name": "stdout",
     "output_type": "stream",
     "text": [
      "[datetime.datetime(2012, 1, 1, 0, 0), datetime.datetime(2012, 1, 1, 0, 0), datetime.datetime(2012, 1, 1, 0, 0), datetime.datetime(2012, 2, 1, 0, 0), datetime.datetime(2012, 2, 1, 0, 0)]\n"
     ]
    }
   ],
   "source": [
    "import datetime\n",
    "dates = [datetime.datetime(int(row[1]), int(row[2]), day = 1) for row in data]\n",
    "print(dates[0:5])\n"
   ]
  },
  {
   "cell_type": "code",
   "execution_count": 5,
   "metadata": {
    "collapsed": false
   },
   "outputs": [
    {
     "name": "stdout",
     "output_type": "stream",
     "text": [
      "{datetime.datetime(2013, 10, 1, 0, 0): 2808, datetime.datetime(2014, 2, 1, 0, 0): 2361, datetime.datetime(2014, 11, 1, 0, 0): 2756, datetime.datetime(2014, 5, 1, 0, 0): 2864, datetime.datetime(2013, 4, 1, 0, 0): 2798, datetime.datetime(2014, 4, 1, 0, 0): 2862, datetime.datetime(2014, 6, 1, 0, 0): 2931, datetime.datetime(2014, 3, 1, 0, 0): 2684, datetime.datetime(2012, 10, 1, 0, 0): 2733, datetime.datetime(2013, 3, 1, 0, 0): 2862, datetime.datetime(2014, 10, 1, 0, 0): 2865, datetime.datetime(2014, 1, 1, 0, 0): 2651, datetime.datetime(2013, 9, 1, 0, 0): 2742, datetime.datetime(2013, 11, 1, 0, 0): 2758, datetime.datetime(2013, 7, 1, 0, 0): 3079, datetime.datetime(2013, 2, 1, 0, 0): 2375, datetime.datetime(2012, 9, 1, 0, 0): 2852, datetime.datetime(2014, 9, 1, 0, 0): 2914, datetime.datetime(2012, 6, 1, 0, 0): 2826, datetime.datetime(2012, 1, 1, 0, 0): 2758, datetime.datetime(2012, 2, 1, 0, 0): 2357, datetime.datetime(2012, 11, 1, 0, 0): 2729, datetime.datetime(2013, 1, 1, 0, 0): 2864, datetime.datetime(2013, 6, 1, 0, 0): 2920, datetime.datetime(2013, 12, 1, 0, 0): 2765, datetime.datetime(2012, 8, 1, 0, 0): 2954, datetime.datetime(2012, 4, 1, 0, 0): 2795, datetime.datetime(2013, 8, 1, 0, 0): 2859, datetime.datetime(2014, 7, 1, 0, 0): 2884, datetime.datetime(2014, 8, 1, 0, 0): 2970, datetime.datetime(2012, 5, 1, 0, 0): 2999, datetime.datetime(2012, 3, 1, 0, 0): 2743, datetime.datetime(2012, 12, 1, 0, 0): 2791, datetime.datetime(2012, 7, 1, 0, 0): 3026, datetime.datetime(2013, 5, 1, 0, 0): 2806, datetime.datetime(2014, 12, 1, 0, 0): 2857}\n"
     ]
    }
   ],
   "source": [
    "date_counts = {}\n",
    "for row in dates:\n",
    "    if row in date_counts:\n",
    "        date_counts[row] += 1\n",
    "    else:\n",
    "        date_counts[row] = 1\n",
    "print(date_counts)"
   ]
  },
  {
   "cell_type": "markdown",
   "metadata": {},
   "source": [
    "There seems to be a little bit of variability when we look at months. What about sex and race?"
   ]
  },
  {
   "cell_type": "code",
   "execution_count": 6,
   "metadata": {
    "collapsed": false
   },
   "outputs": [
    {
     "name": "stdout",
     "output_type": "stream",
     "text": [
      "{'F': 14449, 'M': 86349} {'Native American/Native Alaskan': 917, 'White': 66237, 'Black': 23296, 'Asian/Pacific Islander': 1326, 'Hispanic': 9022}\n"
     ]
    }
   ],
   "source": [
    "def counter(index):\n",
    "    trait_list = []\n",
    "    trait_count = {}\n",
    "    for row in data:\n",
    "        trait_list.append(row[index])\n",
    "    for trait in trait_list:\n",
    "        if trait in trait_count:\n",
    "            trait_count[trait] += 1\n",
    "        else:\n",
    "            trait_count[trait] = 1\n",
    "    return trait_count\n",
    "\n",
    "sex_counts = counter(5)\n",
    "race_counts = counter(7)\n",
    "\n",
    "print(sex_counts, race_counts)"
   ]
  },
  {
   "cell_type": "markdown",
   "metadata": {},
   "source": [
    "It seems that most gun deaths are by males and those with a white race. So far it doesn't seem like the time period matters much for when gun deaths occur compared to sex and race. We would probably need more information to make any inferences from the analysis. For example, are those that are white more likely to die by gunshot? Or are there more deaths because there are simply more whites?"
   ]
  },
  {
   "cell_type": "markdown",
   "metadata": {},
   "source": [
    "In order to answer these questions, let's import data about the population of each race."
   ]
  },
  {
   "cell_type": "code",
   "execution_count": 7,
   "metadata": {
    "collapsed": false
   },
   "outputs": [
    {
     "name": "stdout",
     "output_type": "stream",
     "text": [
      "['Id', 'Year', 'Id', 'Sex', 'Id', 'Hispanic Origin', 'Id', 'Id2', 'Geography', 'Total', 'Race Alone - White', 'Race Alone - Hispanic', 'Race Alone - Black or African American', 'Race Alone - American Indian and Alaska Native', 'Race Alone - Asian', 'Race Alone - Native Hawaiian and Other Pacific Islander', 'Two or More Races']\n",
      "['cen42010', 'April 1, 2010 Census', 'totsex', 'Both Sexes', 'tothisp', 'Total', '0100000US', '', 'United States', '308745538', '197318956', '44618105', '40250635', '3739506', '15159516', '674625', '6984195']\n"
     ]
    }
   ],
   "source": [
    "census_file = open('census.csv')\n",
    "census = list(csv.reader(census_file))\n",
    "c_header = census[0]\n",
    "census = census[1]\n",
    "print(c_header)\n",
    "print(census)"
   ]
  },
  {
   "cell_type": "code",
   "execution_count": 8,
   "metadata": {
    "collapsed": false
   },
   "outputs": [
    {
     "name": "stdout",
     "output_type": "stream",
     "text": [
      "17\n",
      "17\n"
     ]
    }
   ],
   "source": [
    "census_header_length = len(c_header)\n",
    "census_length = len(census)\n",
    "print(census_header_length)\n",
    "print(census_length)"
   ]
  },
  {
   "cell_type": "code",
   "execution_count": 9,
   "metadata": {
    "collapsed": false
   },
   "outputs": [
    {
     "name": "stdout",
     "output_type": "stream",
     "text": [
      "{'Native American/Native Alaskan': 40250635, 'Black': 44618105, 'Hispanic': 197318956, 'Asian/Pacific Islander': 18899022, 'White': 308745538}\n"
     ]
    }
   ],
   "source": [
    "def find_index(string):\n",
    "    counter = 0\n",
    "    rounds = 0\n",
    "    for key in c_header:\n",
    "        if key == string and counter != 0:\n",
    "            return counter - 1\n",
    "        if key == string and counter == 0:\n",
    "            return counter\n",
    "        counter += 1\n",
    "        \n",
    "asia_index = find_index('Race Alone - Asian')\n",
    "islander_index = find_index('Race Alone - Native Hawaiian and Other Pacific Islander')\n",
    "black_index = find_index('Race Alone - Black or African American')\n",
    "na_index = find_index('Race Alone - American Indian and Alaska Native')\n",
    "white_index = find_index('Race Alone - White')\n",
    "hispanic_index = find_index('Race Alone - Hispanic')\n",
    "\n",
    "mapping = {\n",
    "    'Asian/Pacific Islander': int(census[asia_index]) + int(census[islander_index]),\n",
    "    'Black': int(census[black_index]),\n",
    "    'Native American/Native Alaskan': int(census[na_index]),\n",
    "    'White': int(census[white_index]),\n",
    "    'Hispanic': int(census[hispanic_index])\n",
    "}\n",
    "print(mapping)\n"
   ]
  },
  {
   "cell_type": "code",
   "execution_count": 10,
   "metadata": {
    "collapsed": false
   },
   "outputs": [
    {
     "name": "stdout",
     "output_type": "stream",
     "text": [
      "{'Native American/Native Alaskan': 2.278224927383133, 'White': 21.453589395678975, 'Hispanic': 4.572292588047142, 'Black': 52.211988832784364, 'Asian/Pacific Islander': 7.016236078247858}\n"
     ]
    }
   ],
   "source": [
    "race_per_hundredk = {}\n",
    "for key in race_counts:\n",
    "    number = (race_counts[key] / mapping[key])*100000\n",
    "    race_per_hundredk[key] = number\n",
    "    \n",
    "print(race_per_hundredk)"
   ]
  },
  {
   "cell_type": "code",
   "execution_count": 14,
   "metadata": {
    "collapsed": false
   },
   "outputs": [
    {
     "name": "stdout",
     "output_type": "stream",
     "text": [
      "{'Native American/Native Alaskan': 326, 'White': 9147, 'Black': 19510, 'Asian/Pacific Islander': 559, 'Hispanic': 5634}\n"
     ]
    }
   ],
   "source": [
    "intents = [row[3] for row in data]\n",
    "races = [row[7] for row in data]\n",
    "homicide_race_per_hundredk = {}\n",
    "\n",
    "for i, race in enumerate(races):\n",
    "    if intents[i] == 'Homicide':\n",
    "        if race not in homicide_race_per_hundredk:\n",
    "            homicide_race_per_hundredk[race] = 1\n",
    "        else:\n",
    "            homicide_race_per_hundredk[race] += 1\n",
    "print(homicide_race_per_hundredk)"
   ]
  },
  {
   "cell_type": "code",
   "execution_count": 15,
   "metadata": {
    "collapsed": false
   },
   "outputs": [
    {
     "name": "stdout",
     "output_type": "stream",
     "text": [
      "{'Native American/Native Alaskan': 0.8099251104982568, 'White': 2.9626339085748987, 'Black': 43.7266441503959, 'Asian/Pacific Islander': 2.9578250133789994, 'Hispanic': 2.8552755975457322}\n"
     ]
    }
   ],
   "source": [
    "for key in homicide_race_per_hundredk:\n",
    "    number = (homicide_race_per_hundredk[key] / mapping[key])*100000\n",
    "    homicide_race_per_hundredk[key] = number\n",
    "print(homicide_race_per_hundredk)"
   ]
  },
  {
   "cell_type": "markdown",
   "metadata": {},
   "source": [
    "It seems that Blacks have a disproportionately high rate of gun deaths from homicide. Looking at counts alone would not have revealed this rate; only by looking at how the counts relate to the population and the intent can we see further meaning in gun death rates."
   ]
  }
 ],
 "metadata": {
  "kernelspec": {
   "display_name": "Python 3",
   "language": "python",
   "name": "python3"
  },
  "language_info": {
   "codemirror_mode": {
    "name": "ipython",
    "version": 3
   },
   "file_extension": ".py",
   "mimetype": "text/x-python",
   "name": "python",
   "nbconvert_exporter": "python",
   "pygments_lexer": "ipython3",
   "version": "3.4.3"
  }
 },
 "nbformat": 4,
 "nbformat_minor": 0
}
